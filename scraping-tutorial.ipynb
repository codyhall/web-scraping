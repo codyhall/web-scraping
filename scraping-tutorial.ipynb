{
 "metadata": {
  "name": ""
 },
 "nbformat": 3,
 "nbformat_minor": 0,
 "worksheets": [
  {
   "cells": [
    {
     "cell_type": "markdown",
     "metadata": {},
     "source": [
      "#Web-scraping tutorial in python\n",
      "*Examples from Harvard's CS109 class*\n",
      "\n",
      "As an aspiring data science professional, I'm building out more areas of expertise to grow from analyst to advanced analytics and beyond. My method is to learn, do, teach in rapid fashion by consuming and reporting examples from around the web. Using new languages (in this case python), blogging the results (github pages + jeykll + nbviewer) I hope to engage people outside of work in a conversation about interesting data sets and visualization/ communication techniques. \n",
      "\n",
      "This example is interesting because it journeys into the mining and web data space. Many data sets are not perfect, others aren't even structured in table format. When you enter what I will call natural web data, you are forced to believe two things. 1) The entire internet is a database 2) I have the tools I need to munge, format and extract useful information from it. Kind of cool, let's go with those. \n",
      "\n",
      "I started by downloading [Anaconda]('https://store.continuum.io/cshop/anaconda/') to get python and all the required modules installed at once. This post should help get you started: [CS109 Installing Python]('https://github.com/cs109/content/wiki/Installing-Python'). Pattern, used for extracting information from websites is an additional module outside of standard anaconda distribution so make sure to install that using pip or by downloading from the [Pattern website]('http://www.clips.ua.ac.be/pattern').\n",
      "\n",
      "Some time ago I customized my shell with [oh-my-zsh]('https://github.com/robbyrussell/oh-my-zsh'), just remember that your PATH needs to be configured in .zshrc if you have something other than the default terminal on mac. StackOverflow and google are your best bet to solve self-imposed complexities like mine. \n",
      "\n",
      "It's one thing to follow along the video and copy syntax, so I'll go a little further and attempt to explain the code. \n",
      "\n",
      "###About each module:\n",
      "\n",
      "- Collections gives us an easy to use dict object that has the magic *update* class\n",
      "- pandas is a data structure and analysis tool\n",
      "- matplotlib plots graphs\n",
      "- requests allows you to download information from the net\n",
      "- pattern is a web mining tool. Here, we'll use it to structure a DOM and extract the precise information needed. \n",
      "\n",
      "> Let's get started, first we load the required modules for web scraping"
     ]
    },
    {
     "cell_type": "code",
     "collapsed": false,
     "input": [
      "from collections import defaultdict\n",
      "\n",
      "import pandas as pd\n",
      "import matplotlib.pyplot as plt\n",
      "import requests\n",
      "from pattern import web\n",
      "\n",
      "#Allow plots to be displayed inline with this command\n",
      "%matplotlib inline"
     ],
     "language": "python",
     "metadata": {},
     "outputs": [],
     "prompt_number": 25
    },
    {
     "cell_type": "markdown",
     "metadata": {},
     "source": [
      "Below is the website we are going to mine from. It contains a number of tables reporting past, present and predicted populations of geographic areas. Population data are grouped by Country or Territory and Sub-Continent. \n",
      "\n",
      "[http://en.wikipedia.org/wiki/List_of_countries_by_past_and_future_population]\n",
      "\n",
      "> Pull website data in raw text form. Store the static site as website_html"
     ]
    },
    {
     "cell_type": "code",
     "collapsed": false,
     "input": [
      "#Pull down website text using requests.get(url)\n",
      "url = 'http://en.wikipedia.org/wiki/List_of_countries_by_past_and_future_population'\n",
      "website_html = requests.get(url).text"
     ],
     "language": "python",
     "metadata": {},
     "outputs": []
    },
    {
     "cell_type": "markdown",
     "metadata": {},
     "source": [
      "Next we use pattern to create a DOM from the raw text. DOM stands for *document object model* which I think of as the logical orgnaization of data in HTML, or XML text. For an especially pertinent example see [W3: What is a DOM?]('http://www.w3.org/TR/DOM-Level-2-Core/introduction.html')\n",
      "\n",
      "After creating the DOM, I played around a little to find the right class of table from the website. Right-click in a website and use 'Inspect Element...' to find where in the HTML a particular object of interest is located. That's how I discovered the 'sortable wikitable' is the correct class containing the population data. At the time the Harvard course videos were recorded, the class was 'wikitable sortable.' Just goes to show how vulnerable this type of web mining is to changes over time. \n",
      "\n",
      "> Create DOM from HTML text and print attributes about tables containing population data"
     ]
    },
    {
     "cell_type": "code",
     "collapsed": false,
     "input": [
      "def get_population_html_tables(html):\n",
      "    dom = web.Element(html)\n",
      "    \n",
      "    tbls = dom.by_class('sortable wikitable')\n",
      "    \n",
      "    return tbls\n",
      "\n",
      "tables = get_population_html_tables(website_html)\n",
      "print 'table length %d' %len(tables)\n",
      "for t in tables:\n",
      "    print t.attributes"
     ],
     "language": "python",
     "metadata": {},
     "outputs": [
      {
       "output_type": "stream",
       "stream": "stdout",
       "text": [
        "table length 6\n",
        "{u'style': u'text-align: right', u'class': u'sortable wikitable'}\n",
        "{u'style': u'text-align: right', u'class': u'sortable wikitable'}\n",
        "{u'style': u'text-align: right', u'class': u'sortable wikitable'}\n",
        "{u'style': u'text-align: right', u'class': u'sortable wikitable'}\n",
        "{u'style': u'text-align: right', u'class': u'sortable wikitable'}\n",
        "{u'style': u'text-align: right', u'class': u'sortable wikitable'}\n"
       ]
      }
     ],
     "prompt_number": 4
    },
    {
     "cell_type": "markdown",
     "metadata": {},
     "source": [
      "This next section will create a dict(ionary) object to view the tables. Dict objects are useful to store key value pairs and can be accessed very rapidly. The key in this case is the first element in table class 'th' or table header. Table header indicates whether the column contains Countries or (Sub)continents. As you can see there are 3 in each (past, present, predicted future). We will use the classification above in the next step.  \n",
      "\n",
      "> Classify tables by the first column header"
     ]
    },
    {
     "cell_type": "code",
     "collapsed": false,
     "input": [
      "def table_type(tbl):\n",
      "    return tbl('th')[0].content\n",
      "    \n",
      "    \n",
      "tables_by_type = defaultdict(list)\n",
      "for tbl in tables:\n",
      "    tables_by_type[table_type(tbl)].append(tbl)\n",
      "\n",
      "print tables_by_type\n"
     ],
     "language": "python",
     "metadata": {},
     "outputs": [
      {
       "output_type": "stream",
       "stream": "stdout",
       "text": [
        "defaultdict(<type 'list'>, {u'Country or territory': [Element(tag=u'table'), Element(tag=u'table'), Element(tag=u'table')], u'(Sub)continent': [Element(tag=u'table'), Element(tag=u'table'), Element(tag=u'table')]})\n"
       ]
      }
     ],
     "prompt_number": 5
    },
    {
     "cell_type": "markdown",
     "metadata": {},
     "source": [
      "Up until this step we've essentially identified the exact tables needed by discovering their unique attributes. Next we will iterate through the tables and pull country data into tables.\n",
      "\n",
      "In the next block of code we define a function to pull numeric values from the tables. Comments in-line for details. "
     ]
    },
    {
     "cell_type": "code",
     "collapsed": false,
     "input": [
      "def get_countries_population(tables):\n",
      "    result = defaultdict(dict)\n",
      "    print 'Year and year_indices'\n",
      "    #loop over tables\n",
      "    for tbl in tables:\n",
      "        #each 'tr' or table row contains data, the first in the table is going to be the header names \n",
      "        headers = tbl('tr')\n",
      "        first_header = headers[0]\n",
      "        th_s = first_header('th')\n",
      "        \n",
      "        #collect numberic values and note the index\n",
      "        #years collects the val.content as an integer when the content is numeric\n",
      "        years = [int(val.content) for val in th_s if val.content.isnumeric()] \n",
      "        #also note the index value for numeric data\n",
      "        year_indices = [idx for idx, val in enumerate(th_s) if val.content.isnumeric()]\n",
      "        \n",
      "        print years\n",
      "        print year_indices\n",
      "        \n",
      "        #sub-select from the second column on [1:] in zero oriented python. This segments the numeric \n",
      "        #data from the country names.\n",
      "        rows = tbl('tr')[1:]\n",
      "        \n",
      "        #take rows object and assign them to dict object with country, year, population\n",
      "        for row in rows: \n",
      "            tds = row('td')\n",
      "            # country name is the link class 'a' , removes flag information from table\n",
      "            country_name = tds[0]('a')[0].content\n",
      "            #return the population value as an integer, replace ',' in the context with nothing.\n",
      "            population_by_year = [int(tds[colinx].content.replace(',','')) for colinx in year_indices]\n",
      "            #zip together the years and population_by_year \n",
      "            subdict = dict(zip(years, population_by_year))\n",
      "            #update result with country name and subdict of zipped(year, population_by_year)\n",
      "            result[country_name].update(subdict)\n",
      "        \n",
      "    return result\n",
      "\n",
      "result = get_countries_population(tables_by_type['Country or territory'])\n",
      "\n",
      "print len(result) , \"countries extracted\"\n",
      "print ' '\n",
      "print 'Example results for Canada:'\n",
      "print result[u'Canada']"
     ],
     "language": "python",
     "metadata": {},
     "outputs": [
      {
       "output_type": "stream",
       "stream": "stdout",
       "text": [
        "Year and year_indices\n",
        "[1950, 1955, 1960, 1965, 1970, 1975, 1980]\n",
        "[1, 2, 4, 6, 8, 10, 12]\n",
        "[1985, 1990, 1995, 2000, 2005, 2010, 2015]"
       ]
      },
      {
       "output_type": "stream",
       "stream": "stdout",
       "text": [
        "\n",
        "[1, 3, 5, 7, 9, 11, 13]\n",
        "[2020, 2025, 2030, 2035, 2040, 2045, 2050]"
       ]
      },
      {
       "output_type": "stream",
       "stream": "stdout",
       "text": [
        "\n",
        "[1, 3, 5, 7, 9, 11, 13]\n",
        "228"
       ]
      },
      {
       "output_type": "stream",
       "stream": "stdout",
       "text": [
        " countries extracted\n",
        " \n",
        "Example results for Canada:\n",
        "{1985: 25942, 2050: 41136, 1955: 16050, 2020: 36387, 1990: 27791, 1960: 18267, 2025: 37559, 1995: 29691, 1965: 20071, 2030: 38565, 2000: 31100, 1970: 21750, 2035: 39396, 2005: 32386, 1975: 23209, 2040: 40070, 2010: 33760, 1980: 24593, 2045: 40635, 1950: 14011, 2015: 35100}\n"
       ]
      }
     ],
     "prompt_number": 16
    },
    {
     "cell_type": "markdown",
     "metadata": {},
     "source": [
      "##Turning scraped data into a pandas DataFrame\n",
      "\n",
      "This next portion will visualize the collected data in a few plot examples\n",
      "\n",
      "[Pandas Docs explains why the orient= 'index' parameter is necessary]('http://pandas.pydata.org/pandas-docs/dev/dsintro.html')\n",
      "\n",
      "*DataFrame.from_dict takes a dict of dicts or a dict of array-like sequences and returns a DataFrame. It operates like the DataFrame constructor except for the orient parameter which is 'columns' by default, but which can be set to 'index' in order to use the dict keys as row labels.*\n",
      "\n",
      ">Creating a data frame from dict"
     ]
    },
    {
     "cell_type": "code",
     "collapsed": false,
     "input": [
      "df = pd.DataFrame.from_dict(result, orient= 'index')\n",
      "df.sort(axis=1, inplace = True)\n",
      "print df"
     ],
     "language": "python",
     "metadata": {},
     "outputs": [
      {
       "output_type": "stream",
       "stream": "stdout",
       "text": [
        "<class 'pandas.core.frame.DataFrame'>\n",
        "Index: 228 entries, Afghanistan to Zimbabwe\n",
        "Data columns (total 21 columns):\n",
        "1950    227  non-null values\n",
        "1955    227  non-null values\n",
        "1960    227  non-null values\n",
        "1965    227  non-null values\n",
        "1970    227  non-null values\n",
        "1975    227  non-null values\n",
        "1980    227  non-null values\n",
        "1985    227  non-null values\n",
        "1990    227  non-null values\n",
        "1995    227  non-null values\n",
        "2000    227  non-null values\n",
        "2005    227  non-null values\n",
        "2010    227  non-null values\n",
        "2015    227  non-null values\n",
        "2020    227  non-null values\n",
        "2025    227  non-null values\n",
        "2030    227  non-null values\n",
        "2035    227  non-null values\n",
        "2040    227  non-null values\n",
        "2045    227  non-null values\n",
        "2050    227  non-null values\n",
        "dtypes: float64(21)\n"
       ]
      }
     ],
     "prompt_number": 7
    },
    {
     "cell_type": "markdown",
     "metadata": {},
     "source": [
      "At last, we can plot information from the scraped DataFrame"
     ]
    },
    {
     "cell_type": "code",
     "collapsed": false,
     "input": [
      "plotCountries = ['Austria', 'United States', 'Germany' , 'France']\n",
      "\n",
      "for country in plotCountries: \n",
      "    row = df.ix[country]\n",
      "    plt.plot(row.index, row/1000, label=row.name)\n",
      "    \n",
      "plt.ylim(ymin=0)\n",
      "\n",
      "plt.xticks(rotation=70)\n",
      "plt.legend(loc='best')\n",
      "plt.xlabel(\"Year\")\n",
      "plt.ylabel(\"# people (millions)\")\n",
      "plt.title(\"Population of countries\")\n",
      "\n"
     ],
     "language": "python",
     "metadata": {},
     "outputs": [
      {
       "metadata": {},
       "output_type": "pyout",
       "prompt_number": 27,
       "text": [
        "<matplotlib.text.Text at 0x109d5de50>"
       ]
      },
      {
       "metadata": {},
       "output_type": "display_data",
       "png": "[encoded data removed]",
       "text": [
        "<matplotlib.figure.Figure at 0x109d7c6d0>"
       ]
      }
     ],
     "prompt_number": 27
    }
   ],
   "metadata": {}
  }
 ]
}